{
 "cells": [
  {
   "cell_type": "markdown",
   "metadata": {},
   "source": [
    "# Self-Driving Car Engineer Nanodegree\n",
    "\n",
    "## Deep Learning\n",
    "\n",
    "## Project: Build a Traffic Sign Recognition Classifier\n",
    "\n",
    "In this notebook, a template is provided for you to implement your functionality in stages, which is required to successfully complete this project. If additional code is required that cannot be included in the notebook, be sure that the Python code is successfully imported and included in your submission if necessary. \n",
    "\n",
    "> **Note**: Once you have completed all of the code implementations, you need to finalize your work by exporting the iPython Notebook as an HTML document. Before exporting the notebook to html, all of the code cells need to have been run so that reviewers can see the final implementation and output. You can then export the notebook by using the menu above and navigating to  \\n\",\n",
    "    \"**File -> Download as -> HTML (.html)**. Include the finished document along with this notebook as your submission. \n",
    "\n",
    "In addition to implementing code, there is a writeup to complete. The writeup should be completed in a separate file, which can be either a markdown file or a pdf document. There is a [write up template](https://github.com/udacity/CarND-Traffic-Sign-Classifier-Project/blob/master/writeup_template.md) that can be used to guide the writing process. Completing the code template and writeup template will cover all of the [rubric points](https://review.udacity.com/#!/rubrics/481/view) for this project.\n",
    "\n",
    "The [rubric](https://review.udacity.com/#!/rubrics/481/view) contains \"Stand Out Suggestions\" for enhancing the project beyond the minimum requirements. The stand out suggestions are optional. If you decide to pursue the \"stand out suggestions\", you can include the code in this Ipython notebook and also discuss the results in the writeup file.\n",
    "\n",
    "\n",
    ">**Note:** Code and Markdown cells can be executed using the **Shift + Enter** keyboard shortcut. In addition, Markdown cells can be edited by typically double-clicking the cell to enter edit mode."
   ]
  },
  {
   "cell_type": "markdown",
   "metadata": {},
   "source": [
    "---\n",
    "## Step 0: Load The Data"
   ]
  },
  {
   "cell_type": "code",
   "execution_count": 1,
   "metadata": {
    "collapsed": false
   },
   "outputs": [
    {
     "name": "stdout",
     "output_type": "stream",
     "text": [
      "...DONE 170306x0052\n"
     ]
    }
   ],
   "source": [
    "## Settings\n",
    "# Automatically update the imported modules from the python scripts\n",
    "%load_ext autoreload\n",
    "%autoreload 2\n",
    "from __future__ import absolute_import\n",
    "\n",
    "# Import python libraries\n",
    "from P1703031502_ImportLibraries import * # see footnote, [1]\n",
    "import prettyplotlib as ppl\n",
    "import brewer2mpl\n",
    "assert tf.__version__ == '1.0.0', 'You need at least TensorFlow 1.0.0'\n",
    "%matplotlib inline\n",
    "\n",
    "# directories location\n",
    "#pathData = '/home/mo/_eSDC_/_L11_/_V2_/_2_WIP/_DATA_/'\n",
    "pathData = '/home/mo/_eSDC_/_L11_/_V2_/_1_WORK/_2_WIP/_DATA_/'\n",
    "\n",
    "# Activate or not the traces\n",
    "tRace1, tRace2, tRace3 = True, False, False\n",
    "msg1, msg2, msg3       = '...DONE'+' '+datetime.now().strftime(\"%y%m%dx%H%M\"),'< You are here >', '< ? >'\n",
    "\n",
    "if tRace1: print(msg1)"
   ]
  },
  {
   "cell_type": "code",
   "execution_count": 2,
   "metadata": {
    "collapsed": false
   },
   "outputs": [
    {
     "name": "stdout",
     "output_type": "stream",
     "text": [
      "...DONE 170306x0052\n"
     ]
    }
   ],
   "source": [
    "# Load pickled data\n",
    "#import pickle\n",
    "\n",
    "# TODO: Fill this in based on where you saved the training and testing data\n",
    "path = pathData+'traffic-signs-data/'\n",
    "training_file   = path+'train.p'\n",
    "validation_file = path+'valid.p'\n",
    "testing_file    = path+'test.p'\n",
    "\n",
    "with open(training_file, mode='rb') as f:\n",
    "    train = pickle.load(f)\n",
    "with open(validation_file, mode='rb') as f:\n",
    "    valid = pickle.load(f)\n",
    "with open(testing_file, mode='rb') as f:\n",
    "    test = pickle.load(f)\n",
    "    \n",
    "X_train, y_train = train['features'], train['labels']\n",
    "X_valid, y_valid = valid['features'], valid['labels']\n",
    "X_test, y_test = test['features'], test['labels']\n",
    "\n",
    "if tRace1: print(msg1)"
   ]
  },
  {
   "cell_type": "markdown",
   "metadata": {},
   "source": [
    "---\n",
    "\n",
    "## Step 1: Dataset Summary & Exploration\n",
    "\n",
    "The pickled data is a dictionary with 4 key/value pairs:\n",
    "\n",
    "- `'features'` is a 4D array containing raw pixel data of the traffic sign images, (num examples, width, height, channels).\n",
    "- `'labels'` is a 1D array containing the label/class id of the traffic sign. The file `signnames.csv` contains id -> name mappings for each id.\n",
    "- `'sizes'` is a list containing tuples, (width, height) representing the original width and height the image.\n",
    "- `'coords'` is a list containing tuples, (x1, y1, x2, y2) representing coordinates of a bounding box around the sign in the image. **THESE COORDINATES ASSUME THE ORIGINAL IMAGE. THE PICKLED DATA CONTAINS RESIZED VERSIONS (32 by 32) OF THESE IMAGES**\n",
    "\n",
    "Complete the basic data summary below. Use python, numpy and/or pandas methods to calculate the data summary rather than hard coding the results. For example, the [pandas shape method](http://pandas.pydata.org/pandas-docs/stable/generated/pandas.DataFrame.shape.html) might be useful for calculating some of the summary results. "
   ]
  },
  {
   "cell_type": "markdown",
   "metadata": {},
   "source": [
    "### Provide a Basic Summary of the Data Set Using Python, Numpy and/or Pandas"
   ]
  },
  {
   "cell_type": "code",
   "execution_count": 3,
   "metadata": {
    "collapsed": false
   },
   "outputs": [
    {
     "name": "stdout",
     "output_type": "stream",
     "text": [
      "Number of training examples = 34799\n",
      "Number of validing examples = 4410\n",
      "Number of testing examples = 12630\n",
      "Image data shape = (32, 32, 3)\n",
      "Number of classes = 43\n",
      "\n",
      "...DONE 170306x0052\n"
     ]
    }
   ],
   "source": [
    "### Replace each question mark with the appropriate value. \n",
    "### Use python, pandas or numpy methods rather than hard coding the results\n",
    "#import numpy as np\n",
    "\n",
    "# TODO: Number of training examples\n",
    "n_train = len(X_train)\n",
    "\n",
    "# TODO: Number of testing examples.\n",
    "n_valid = len(X_valid)\n",
    "\n",
    "# TODO: Number of testing examples.\n",
    "n_test = len(X_test)\n",
    "\n",
    "# TODO: What's the shape of an traffic sign image?\n",
    "image_shape = X_train[0].shape\n",
    "\n",
    "# TODO: How many unique classes/labels there are in the dataset.\n",
    "n_classes = len(np.unique(y_train))\n",
    "\n",
    "print(\"Number of training examples =\", n_train)\n",
    "print(\"Number of validing examples =\", n_valid)\n",
    "print(\"Number of testing examples =\", n_test)\n",
    "print(\"Image data shape =\", image_shape)\n",
    "print(\"Number of classes =\", n_classes)\n",
    "\n",
    "print()\n",
    "if tRace1: print(msg1)"
   ]
  },
  {
   "cell_type": "markdown",
   "metadata": {},
   "source": [
    "### Include an exploratory visualization of the dataset"
   ]
  },
  {
   "cell_type": "markdown",
   "metadata": {},
   "source": [
    "Visualize the German Traffic Signs Dataset using the pickled file(s). This is open ended, suggestions include: plotting traffic sign images, plotting the count of each sign, etc.\n",
    "\n",
    "The [Matplotlib](http://matplotlib.org/) [examples](http://matplotlib.org/examples/index.html) and [gallery](http://matplotlib.org/gallery.html) pages are a great resource for doing visualizations in Python.\n",
    "\n",
    "**NOTE:** It's recommended you start with something simple first. If you wish to do more, come back to it after you've completed the rest of the sections."
   ]
  },
  {
   "cell_type": "code",
   "execution_count": null,
   "metadata": {
    "collapsed": true
   },
   "outputs": [],
   "source": [
    "### Data exploration visualization code goes here.\n",
    "### Feel free to use as many code cells as needed.\n",
    "import matplotlib.pyplot as plt\n",
    "# Visualizations will be shown in the notebook.\n",
    "%matplotlib inline"
   ]
  },
  {
   "cell_type": "code",
   "execution_count": 4,
   "metadata": {
    "collapsed": false
   },
   "outputs": [
    {
     "name": "stdout",
     "output_type": "stream",
     "text": [
      "...DONE 170306x0052\n"
     ]
    }
   ],
   "source": [
    "class dataExplo(object):\n",
    "    def __init__(self, dataSet, csvFile='signnames.csv', sOrted=True):\n",
    "        self.dataSet   = dataSet\n",
    "        self.csvFile   = csvFile\n",
    "        self.sOrted    = sOrted\n",
    "\n",
    "\n",
    "    def showChart(self,figNb=1):\n",
    "        '''Show the number of occurence per class'''\n",
    "        n_classes = len(np.unique(self.dataSet))\n",
    "        set2 = brewer2mpl.get_map('Set2', 'qualitative', 8).mpl_colors # [2] Get \"Set2\" colors from ColorBrewer\n",
    "        hist, bins = np.histogram(self.dataSet, np.arange(n_classes+1))\n",
    "        fig = plt.figure(figsize=(16, 3))\n",
    "\n",
    "        plt.title('fig.'+str(figNb)+': labels - number of occurence per class')\n",
    "        plt.xlabel('Class id')\n",
    "        plt.ylabel('Number of occurence')\n",
    "        plt.xlim(0,n_classes)\n",
    "        plt.ylim(0,np.amax(hist))\n",
    "        ax = fig.add_subplot(111)\n",
    "        ppl.bar(ax, bins[:-1], hist, grid='y', color='#616161')\n",
    "     \n",
    "\n",
    "    def showDist(self,figNb=2):\n",
    "        n_classes = len(np.unique(self.dataSet))\n",
    "        set2 = brewer2mpl.get_map('Set2', 'qualitative', 8).mpl_colors\n",
    "        axX = np.arange(len(self.dataSet))\n",
    "        axY = self.dataSet\n",
    "        fig = plt.figure(figsize=(16,2))\n",
    "\n",
    "        plt.title('fig.'+str(figNb)+': labels - data distribution')\n",
    "        plt.xlabel('Index')\n",
    "        plt.ylabel('Class id')\n",
    "        plt.ylim(0,n_classes)\n",
    "        ax = fig.add_subplot(111)    \n",
    "        plt.plot(axX,axY,\".\", color=set2[7])\n",
    "        #ax.scatter(axX, axY, color=set2[7])\n",
    "        \n",
    "\n",
    "    def ocrLabel(self):\n",
    "        n_classes = len(np.unique(self.dataSet))\n",
    "        # Map class_id with Traffic-sign names: dct[classId] = Traffic-sign names\n",
    "        with open(self.csvFile, newline='', encoding=\"utf8\") as csvFile1:\n",
    "            read0 = csv.reader(csvFile1)\n",
    "            #dct0, dct1, dct2 = {}, {}, {}\n",
    "            dct0, dct1 = {}, {}\n",
    "            for i in read0:\n",
    "                try:\n",
    "                    dct0[int(i[0])] = i[1]\n",
    "                except:\n",
    "                    pass\n",
    "        # Output : dct[classId] = Traffic-sign names\n",
    "\n",
    "\n",
    "        # Occurence by class id: dct[classId] = occurence\n",
    "        ocr, classId = np.histogram(self.dataSet, np.arange(n_classes+1))\n",
    "        classId = classId[:-1].copy()\n",
    "        for i,j in zip(classId,ocr):\n",
    "                dct1[i] = j\n",
    "        # Output : dct[classId] = occurence\n",
    "\n",
    "\n",
    "        # Occurence by Traffic-sign names: dct[Traffic-sign names] = occurence\n",
    "        lt = []\n",
    "        for i in classId:\n",
    "                lt.append([dct1[i], dct0[i]])\n",
    "        # Output : lt[classId] = [occurence, Traffic-sign names] \n",
    "\n",
    "        return lt\n",
    "    \n",
    "\n",
    "    def showList(self,figNb=3):\n",
    "        dt1 = { 0: '----------------------------------------------',\n",
    "                1: '{:47}',\n",
    "                2: '{:47}',\n",
    "                3: '{:40}',\n",
    "                4: '|{:4}'\n",
    "                }\n",
    "\n",
    "        dt2 = {10: 'Traffic sign name',\n",
    "               11: 'Qty',\n",
    "               }\n",
    "\n",
    "\n",
    "        if self.sOrted:\n",
    "            sTr = 'sorted'\n",
    "        else:\n",
    "            sTr = ''\n",
    "        print('fig.'+str(figNb)+': labels - {} List of occurence per Traffic sign name'.format(sTr))\n",
    "        \n",
    "        # Print the table header\n",
    "        print(dt1[1].format(dt1[0]), dt1[1].format(dt1[0]))\n",
    "        print(dt1[3].format(dt2[10]), dt1[4].format(dt2[11])+'  '+dt1[3].format(dt2[10]), dt1[4].format(dt2[11]))\n",
    "        print(dt1[1].format(dt1[0]), dt1[1].format(dt1[0]))\n",
    "\n",
    "        # Print ( the Traffic sign name and the related occurence ) x 2 / line\n",
    "        if self.sOrted:\n",
    "            lt = sorted(self.ocrLabel(), reverse=True)\n",
    "        else:\n",
    "            lt = ocrLabel(self.dataSet)\n",
    "\n",
    "        nbLine = int(len(lt)/2)\n",
    "        rem    = len(lt)%2\n",
    "        for i in range(nbLine):\n",
    "            print(dt1[3].format(lt[i][1][:40]), dt1[4].format(lt[i][0])+'  '+dt1[3].format(lt[i+nbLine][1][:40]), dt1[4].format(lt[i+nbLine][0]))\n",
    "        if rem !=0:\n",
    "            print(dt1[3].format(''), dt1[4].format('')+'  '+dt1[3].format(lt[-1][1][:40]), dt1[4].format(lt[-1][0]))\n",
    "\n",
    "\n",
    "\n",
    "    def __str__(self): # footnote [3]\n",
    "        import inspect\n",
    "        frame = inspect.currentframe()\n",
    "        var_id = id(self.dataSet)\n",
    "        for name in frame.f_back.f_locals.keys():\n",
    "            try:\n",
    "                if id(eval(name)) == var_id:\n",
    "                    return '< dataExplo''('' ' + name + ' '')'' >'                    \n",
    "            except:\n",
    "                return '< dataEplo''('' ? '')'' >'\n",
    "\n",
    "tRace2, tRace1 = False, True\n",
    "if tRace2: # Test\n",
    "    yT_explo = dataExplo(y_train)\n",
    "    print(yT_explo)\n",
    "if tRace1: print(msg1)"
   ]
  },
  {
   "cell_type": "code",
   "execution_count": 5,
   "metadata": {
    "collapsed": false
   },
   "outputs": [
    {
     "name": "stdout",
     "output_type": "stream",
     "text": [
      "< dataExplo( y_train ) >\n",
      "fig.1: labels - sorted List of occurence per Traffic sign name\n",
      "----------------------------------------------  ---------------------------------------------- \n",
      "Traffic sign name                        |Qty   Traffic sign name                        |Qty \n",
      "----------------------------------------------  ---------------------------------------------- \n",
      "Speed limit (50km/h)                     |2010  No vehicles                              | 540\n",
      "Speed limit (30km/h)                     |1980  Children crossing                        | 480\n",
      "Yield                                    |1920  Slippery road                            | 450\n",
      "Priority road                            |1890  Beware of ice/snow                       | 390\n",
      "Keep right                               |1860  Vehicles over 3.5 metric tons prohibited | 360\n",
      "No passing for vehicles over 3.5 metric  |1800  Turn left ahead                          | 360\n",
      "Speed limit (70km/h)                     |1770  End of speed limit (80km/h)              | 360\n",
      "Speed limit (80km/h)                     |1650  Go straight or right                     | 330\n",
      "Road work                                |1350  Bumpy road                               | 330\n",
      "No passing                               |1320  Roundabout mandatory                     | 300\n",
      "Speed limit (100km/h)                    |1290  Dangerous curve to the right             | 300\n",
      "Speed limit (60km/h)                     |1260  Keep left                                | 270\n",
      "Speed limit (120km/h)                    |1260  Double curve                             | 270\n",
      "Right-of-way at the next intersection    |1170  Road narrows on the right                | 240\n",
      "General caution                          |1080  Bicycles crossing                        | 240\n",
      "Ahead only                               |1080  Pedestrians                              | 210\n",
      "No entry                                 | 990  End of no passing by vehicles over 3.5 m | 210\n",
      "Wild animals crossing                    | 690  End of no passing                        | 210\n",
      "Stop                                     | 690  End of all speed and passing limits      | 210\n",
      "Turn right ahead                         | 599  Speed limit (20km/h)                     | 180\n",
      "Traffic signals                          | 540  Go straight or left                      | 180\n",
      "                                         |      Dangerous curve to the left              | 180\n"
     ]
    },
    {
     "data": {
      "image/png": "[encoded data removed]",
      "text/plain": [
       "<matplotlib.figure.Figure at 0x7f914c17ff28>"
      ]
     },
     "metadata": {},
     "output_type": "display_data"
    },
    {
     "data": {
      "image/png": "[encoded data removed]",
      "text/plain": [
       "<matplotlib.figure.Figure at 0x7f910b4d9d30>"
      ]
     },
     "metadata": {},
     "output_type": "display_data"
    }
   ],
   "source": [
    "yT_explo = dataExplo(y_train)\n",
    "print(yT_explo)\n",
    "yT_explo.showList(1)\n",
    "yT_explo.showChart(2)\n",
    "yT_explo.showDist(3)\n"
   ]
  },
  {
   "cell_type": "markdown",
   "metadata": {},
   "source": [
    "----\n",
    "\n",
    "## Step 2: Design and Test a Model Architecture\n",
    "\n",
    "Design and implement a deep learning model that learns to recognize traffic signs. Train and test your model on the [German Traffic Sign Dataset](http://benchmark.ini.rub.de/?section=gtsrb&subsection=dataset).\n",
    "\n",
    "There are various aspects to consider when thinking about this problem:\n",
    "\n",
    "- Neural network architecture\n",
    "- Play around preprocessing techniques (normalization, rgb to grayscale, etc)\n",
    "- Number of examples per label (some have more than others).\n",
    "- Generate fake data.\n",
    "\n",
    "Here is an example of a [published baseline model on this problem](http://yann.lecun.com/exdb/publis/pdf/sermanet-ijcnn-11.pdf). It's not required to be familiar with the approach used in the paper but, it's good practice to try to read papers like these.\n",
    "\n",
    "**NOTE:** The LeNet-5 implementation shown in the [classroom](https://classroom.udacity.com/nanodegrees/nd013/parts/fbf77062-5703-404e-b60c-95b78b2f3f9e/modules/6df7ae49-c61c-4bb2-a23e-6527e69209ec/lessons/601ae704-1035-4287-8b11-e2c2716217ad/concepts/d4aca031-508f-4e0b-b493-e7b706120f81) at the end of the CNN lesson is a solid starting point. You'll have to change the number of classes and possibly the preprocessing, but aside from that it's plug and play!"
   ]
  },
  {
   "cell_type": "markdown",
   "metadata": {},
   "source": [
    "### Pre-process the Data Set (normalization, grayscale, etc.)"
   ]
  },
  {
   "cell_type": "markdown",
   "metadata": {},
   "source": [
    "Use the code cell (or multiple code cells, if necessary) to implement the first step of your project."
   ]
  },
  {
   "cell_type": "code",
   "execution_count": null,
   "metadata": {
    "collapsed": true
   },
   "outputs": [],
   "source": [
    "### Preprocess the data here. Preprocessing steps could include normalization, converting to grayscale, etc.\n",
    "### Feel free to use as many code cells as needed."
   ]
  },
  {
   "cell_type": "markdown",
   "metadata": {},
   "source": [
    "### Model Architecture"
   ]
  },
  {
   "cell_type": "code",
   "execution_count": null,
   "metadata": {
    "collapsed": true
   },
   "outputs": [],
   "source": [
    "### Define your architecture here.\n",
    "### Feel free to use as many code cells as needed."
   ]
  },
  {
   "cell_type": "markdown",
   "metadata": {},
   "source": [
    "### Train, Validate and Test the Model"
   ]
  },
  {
   "cell_type": "markdown",
   "metadata": {},
   "source": [
    "A validation set can be used to assess how well the model is performing. A low accuracy on the training and validation\n",
    "sets imply underfitting. A high accuracy on the training set but low accuracy on the validation set implies overfitting."
   ]
  },
  {
   "cell_type": "code",
   "execution_count": null,
   "metadata": {
    "collapsed": true
   },
   "outputs": [],
   "source": [
    "### Train your model here.\n",
    "### Calculate and report the accuracy on the training and validation set.\n",
    "### Once a final model architecture is selected, \n",
    "### the accuracy on the test set should be calculated and reported as well.\n",
    "### Feel free to use as many code cells as needed."
   ]
  },
  {
   "cell_type": "markdown",
   "metadata": {},
   "source": [
    "---\n",
    "\n",
    "## Step 3: Test a Model on New Images\n",
    "\n",
    "To give yourself more insight into how your model is working, download at least five pictures of German traffic signs from the web and use your model to predict the traffic sign type.\n",
    "\n",
    "You may find `signnames.csv` useful as it contains mappings from the class id (integer) to the actual sign name."
   ]
  },
  {
   "cell_type": "markdown",
   "metadata": {},
   "source": [
    "### Load and Output the Images"
   ]
  },
  {
   "cell_type": "code",
   "execution_count": null,
   "metadata": {
    "collapsed": true
   },
   "outputs": [],
   "source": [
    "### Load the images and plot them here.\n",
    "### Feel free to use as many code cells as needed."
   ]
  },
  {
   "cell_type": "markdown",
   "metadata": {},
   "source": [
    "### Predict the Sign Type for Each Image"
   ]
  },
  {
   "cell_type": "code",
   "execution_count": null,
   "metadata": {
    "collapsed": true
   },
   "outputs": [],
   "source": [
    "### Run the predictions here and use the model to output the prediction for each image.\n",
    "### Make sure to pre-process the images with the same pre-processing pipeline used earlier.\n",
    "### Feel free to use as many code cells as needed."
   ]
  },
  {
   "cell_type": "markdown",
   "metadata": {},
   "source": [
    "### Analyze Performance"
   ]
  },
  {
   "cell_type": "code",
   "execution_count": null,
   "metadata": {
    "collapsed": true
   },
   "outputs": [],
   "source": [
    "### Calculate the accuracy for these 5 new images. \n",
    "### For example, if the model predicted 1 out of 5 signs correctly, it's 20% accurate on these new images."
   ]
  },
  {
   "cell_type": "markdown",
   "metadata": {},
   "source": [
    "### Output Top 5 Softmax Probabilities For Each Image Found on the Web"
   ]
  },
  {
   "cell_type": "markdown",
   "metadata": {},
   "source": [
    "For each of the new images, print out the model's softmax probabilities to show the **certainty** of the model's predictions (limit the output to the top 5 probabilities for each image). [`tf.nn.top_k`](https://www.tensorflow.org/versions/r0.12/api_docs/python/nn.html#top_k) could prove helpful here. \n",
    "\n",
    "The example below demonstrates how tf.nn.top_k can be used to find the top k predictions for each image.\n",
    "\n",
    "`tf.nn.top_k` will return the values and indices (class ids) of the top k predictions. So if k=3, for each sign, it'll return the 3 largest probabilities (out of a possible 43) and the correspoding class ids.\n",
    "\n",
    "Take this numpy array as an example. The values in the array represent predictions. The array contains softmax probabilities for five candidate images with six possible classes. `tk.nn.top_k` is used to choose the three classes with the highest probability:\n",
    "\n",
    "```\n",
    "# (5, 6) array\n",
    "a = np.array([[ 0.24879643,  0.07032244,  0.12641572,  0.34763842,  0.07893497,\n",
    "         0.12789202],\n",
    "       [ 0.28086119,  0.27569815,  0.08594638,  0.0178669 ,  0.18063401,\n",
    "         0.15899337],\n",
    "       [ 0.26076848,  0.23664738,  0.08020603,  0.07001922,  0.1134371 ,\n",
    "         0.23892179],\n",
    "       [ 0.11943333,  0.29198961,  0.02605103,  0.26234032,  0.1351348 ,\n",
    "         0.16505091],\n",
    "       [ 0.09561176,  0.34396535,  0.0643941 ,  0.16240774,  0.24206137,\n",
    "         0.09155967]])\n",
    "```\n",
    "\n",
    "Running it through `sess.run(tf.nn.top_k(tf.constant(a), k=3))` produces:\n",
    "\n",
    "```\n",
    "TopKV2(values=array([[ 0.34763842,  0.24879643,  0.12789202],\n",
    "       [ 0.28086119,  0.27569815,  0.18063401],\n",
    "       [ 0.26076848,  0.23892179,  0.23664738],\n",
    "       [ 0.29198961,  0.26234032,  0.16505091],\n",
    "       [ 0.34396535,  0.24206137,  0.16240774]]), indices=array([[3, 0, 5],\n",
    "       [0, 1, 4],\n",
    "       [0, 5, 1],\n",
    "       [1, 3, 5],\n",
    "       [1, 4, 3]], dtype=int32))\n",
    "```\n",
    "\n",
    "Looking just at the first row we get `[ 0.34763842,  0.24879643,  0.12789202]`, you can confirm these are the 3 largest probabilities in `a`. You'll also notice `[3, 0, 5]` are the corresponding indices."
   ]
  },
  {
   "cell_type": "code",
   "execution_count": null,
   "metadata": {
    "collapsed": true
   },
   "outputs": [],
   "source": [
    "### Print out the top five softmax probabilities for the predictions on the German traffic sign images found on the web. \n",
    "### Feel free to use as many code cells as needed."
   ]
  },
  {
   "cell_type": "markdown",
   "metadata": {},
   "source": [
    "---\n",
    "\n",
    "## Step 4: Visualize the Neural Network's State with Test Images\n",
    "\n",
    " This Section is not required to complete but acts as an additional excersise for understaning the output of a neural network's weights. While neural networks can be a great learning device they are often referred to as a black box. We can understand what the weights of a neural network look like better by plotting their feature maps. After successfully training your neural network you can see what it's feature maps look like by plotting the output of the network's weight layers in response to a test stimuli image. From these plotted feature maps, it's possible to see what characteristics of an image the network finds interesting. For a sign, maybe the inner network feature maps react with high activation to the sign's boundary outline or to the contrast in the sign's painted symbol.\n",
    "\n",
    " Provided for you below is the function code that allows you to get the visualization output of any tensorflow weight layer you want. The inputs to the function should be a stimuli image, one used during training or a new one you provided, and then the tensorflow variable name that represents the layer's state during the training process, for instance if you wanted to see what the [LeNet lab's](https://classroom.udacity.com/nanodegrees/nd013/parts/fbf77062-5703-404e-b60c-95b78b2f3f9e/modules/6df7ae49-c61c-4bb2-a23e-6527e69209ec/lessons/601ae704-1035-4287-8b11-e2c2716217ad/concepts/d4aca031-508f-4e0b-b493-e7b706120f81) feature maps looked like for it's second convolutional layer you could enter conv2 as the tf_activation variable.\n",
    "\n",
    "For an example of what feature map outputs look like, check out NVIDIA's results in their paper [End-to-End Deep Learning for Self-Driving Cars](https://devblogs.nvidia.com/parallelforall/deep-learning-self-driving-cars/) in the section Visualization of internal CNN State. NVIDIA was able to show that their network's inner weights had high activations to road boundary lines by comparing feature maps from an image with a clear path to one without. Try experimenting with a similar test to show that your trained network's weights are looking for interesting features, whether it's looking at differences in feature maps from images with or without a sign, or even what feature maps look like in a trained network vs a completely untrained one on the same sign image.\n",
    "\n",
    "<figure>\n",
    " <img src=\"visualize_cnn.png\" width=\"380\" alt=\"Combined Image\" />\n",
    " <figcaption>\n",
    " <p></p> \n",
    " <p style=\"text-align: center;\"> Your output should look something like this (above)</p> \n",
    " </figcaption>\n",
    "</figure>\n",
    " <p></p> \n"
   ]
  },
  {
   "cell_type": "code",
   "execution_count": null,
   "metadata": {
    "collapsed": true
   },
   "outputs": [],
   "source": [
    "### Visualize your network's feature maps here.\n",
    "### Feel free to use as many code cells as needed.\n",
    "\n",
    "# image_input: the test image being fed into the network to produce the feature maps\n",
    "# tf_activation: should be a tf variable name used during your training procedure that represents the calculated state of a specific weight layer\n",
    "# activation_min/max: can be used to view the activation contrast in more detail, by default matplot sets min and max to the actual min and max values of the output\n",
    "# plt_num: used to plot out multiple different weight feature map sets on the same block, just extend the plt number for each new feature map entry\n",
    "\n",
    "def outputFeatureMap(image_input, tf_activation, activation_min=-1, activation_max=-1 ,plt_num=1):\n",
    "    # Here make sure to preprocess your image_input in a way your network expects\n",
    "    # with size, normalization, ect if needed\n",
    "    # image_input =\n",
    "    # Note: x should be the same name as your network's tensorflow data placeholder variable\n",
    "    # If you get an error tf_activation is not defined it maybe having trouble accessing the variable from inside a function\n",
    "    activation = tf_activation.eval(session=sess,feed_dict={x : image_input})\n",
    "    featuremaps = activation.shape[3]\n",
    "    plt.figure(plt_num, figsize=(15,15))\n",
    "    for featuremap in range(featuremaps):\n",
    "        plt.subplot(6,8, featuremap+1) # sets the number of feature maps to show on each row and column\n",
    "        plt.title('FeatureMap ' + str(featuremap)) # displays the feature map number\n",
    "        if activation_min != -1 & activation_max != -1:\n",
    "            plt.imshow(activation[0,:,:, featuremap], interpolation=\"nearest\", vmin =activation_min, vmax=activation_max, cmap=\"gray\")\n",
    "        elif activation_max != -1:\n",
    "            plt.imshow(activation[0,:,:, featuremap], interpolation=\"nearest\", vmax=activation_max, cmap=\"gray\")\n",
    "        elif activation_min !=-1:\n",
    "            plt.imshow(activation[0,:,:, featuremap], interpolation=\"nearest\", vmin=activation_min, cmap=\"gray\")\n",
    "        else:\n",
    "            plt.imshow(activation[0,:,:, featuremap], interpolation=\"nearest\", cmap=\"gray\")"
   ]
  },
  {
   "cell_type": "markdown",
   "metadata": {},
   "source": [
    "### Question 9\n",
    "\n",
    "Discuss how you used the visual output of your trained network's feature maps to show that it had learned to look for interesting characteristics in traffic sign images\n"
   ]
  },
  {
   "cell_type": "markdown",
   "metadata": {},
   "source": [
    "**Answer:**"
   ]
  },
  {
   "cell_type": "markdown",
   "metadata": {},
   "source": [
    "> **Note**: Once you have completed all of the code implementations and successfully answered each question above, you may finalize your work by exporting the iPython Notebook as an HTML document. You can do this by using the menu above and navigating to  \\n\",\n",
    "    \"**File -> Download as -> HTML (.html)**. Include the finished document along with this notebook as your submission."
   ]
  },
  {
   "cell_type": "markdown",
   "metadata": {},
   "source": [
    "### Project Writeup\n",
    "\n",
    "Once you have completed the code implementation, document your results in a project writeup using this [template](https://github.com/udacity/CarND-Traffic-Sign-Classifier-Project/blob/master/writeup_template.md) as a guide. The writeup can be in a markdown or pdf file. "
   ]
  },
  {
   "cell_type": "markdown",
   "metadata": {},
   "source": [
    "___\n",
    "![PROBLEM](https://financesonline.com/uploads/2016/04/sol.gif)\n",
    "## PROBLEM"
   ]
  },
  {
   "cell_type": "markdown",
   "metadata": {},
   "source": [
    "[ISSUE] <-- GitHub : abstract\n",
    "\n",
    "[1] To save & run Python script in Jupyter Notebook   \n",
    "http://stackoverflow.com/questions/33084936/want-to-save-run-python-script-in-jupyter-notebook-anaconda   \n",
    "[2] All colorbrewer scales   \n",
    "http://bl.ocks.org/mbostock/5577023   \n",
    "[3] How to get a variable name as a string in Python?   \n",
    "http://stackoverflow.com/questions/2553354/how-to-get-a-variable-name-as-a-string-in-python"
   ]
  },
  {
   "cell_type": "code",
   "execution_count": null,
   "metadata": {
    "collapsed": true
   },
   "outputs": [],
   "source": []
  },
  {
   "cell_type": "markdown",
   "metadata": {},
   "source": [
    "___\n",
    "![BIBLIOGRAPHY](http://www.formatgenerator.com/wp-content/uploads/2014/05/APA-Annotated-Bibliography-Maker-520x245.jpg)\n",
    "## BIBLIOGRAPHY"
   ]
  },
  {
   "cell_type": "markdown",
   "metadata": {},
   "source": [
    "[J1] To save & run Python script in Jupyter Notebook   \n",
    "http://stackoverflow.com/questions/33084936/want-to-save-run-python-script-in-jupyter-notebook-anaconda   \n",
    "[J2] All colorbrewer scales   \n",
    "http://bl.ocks.org/mbostock/5577023   \n",
    "[J3] How to get a variable name as a string in Python?   \n",
    "http://stackoverflow.com/questions/2553354/how-to-get-a-variable-name-as-a-string-in-python    \n",
    "[J4] Using % and .format() for great good   \n",
    "https://pyformat.info/   "
   ]
  },
  {
   "cell_type": "markdown",
   "metadata": {},
   "source": [
    "[G1] How to undo 'git add' before commit   \n",
    "http://stackoverflow.com/questions/348170/how-to-undo-git-add-before-commit   \n",
    "[G2] How to remove a directory from git repository   \n",
    "http://stackoverflow.com/questions/6313126/how-to-remove-a-directory-from-git-repository   \n",
    "[G3] How to remove settings: git config global file    \n",
    "http://askubuntu.com/questions/206449/git-config-global-file-remove-settings   \n",
    "[G4] How to make Sublime Text the default editor for Git     \n",
    "https://help.github.com/articles/associating-text-editors-with-git/   \n",
    "[G5] How to Write a Git Commit Message   \n",
    "https://chris.beams.io/posts/git-commit/   \n",
    "https://git-scm.com/book/en/v2/Distributed-Git-Contributing-to-a-Project   "
   ]
  },
  {
   "cell_type": "code",
   "execution_count": null,
   "metadata": {
    "collapsed": true
   },
   "outputs": [],
   "source": []
  },
  {
   "cell_type": "markdown",
   "metadata": {},
   "source": [
    "___\n",
    "![GARBAGE](http://www.salubritatedeva.ro/comune/web/photo/6_3.jpg)\n",
    "## GARBAGE"
   ]
  },
  {
   "cell_type": "code",
   "execution_count": null,
   "metadata": {
    "collapsed": true
   },
   "outputs": [],
   "source": []
  },
  {
   "cell_type": "code",
   "execution_count": null,
   "metadata": {
    "collapsed": false
   },
   "outputs": [],
   "source": [
    "def IndexList(dataImg, tRace=False):\n",
    "    '''Create a shuffled list of index'''\n",
    "    n_occu = len(dataImg)\n",
    "    lt     = [i for i in range(n_occu)]\n",
    "    lt     = shuffle(lt)\n",
    "    if tRace: print(lt[:15])\n",
    "    return lt    \n",
    "ltTmp = IndexList(X_train)\n",
    "if tRace1: print(msg1)"
   ]
  },
  {
   "cell_type": "code",
   "execution_count": null,
   "metadata": {
    "collapsed": false
   },
   "outputs": [],
   "source": [
    "dt0 = { 'C': 96,\n",
    "        'e': 1,\n",
    "        'a': 10,\n",
    "        'b': 4\n",
    "        }\n",
    "\n",
    "\n",
    "\n",
    "dct = { 0: '-------------------------------------',\n",
    "        1: '{:35}',\n",
    "        2: '{:41}',\n",
    "        3: 'Traffic sign name',\n",
    "        4: 'Occu',\n",
    "        5: 'End of no passing by vehicles over 3.5 metric tons',\n",
    "        6: '2250',\n",
    "        7: 'No passing for vehicles over 3.5 metric tons',\n",
    "       11: '{:30}',\n",
    "       12: '|{}',\n",
    "       13: '{}'\n",
    "        }\n",
    "\n",
    "# 0 : '---'\n",
    "print(dct[1].format(dct[0]), end='  '); print(dct[2].format(dct[0]))\n",
    "\n",
    "# 1.1 : title\n",
    "print(dct[11].format(dct[3]), end='  '); print(dct[12].format(dct[4]), end='  ')\n",
    "print(dct[11].format(dct[3]), end='  '); print(dct[12].format(dct[4]))\n",
    "\n",
    "# 2 : '---'\n",
    "print(dct[1].format(dct[0]), end='  '); print(dct[2].format(dct[0]))\n",
    "\n",
    "# 3 : TSName + occur.\n",
    "print(dct[11].format(dct[7][:32]), end=''); print(dct[12].format(dct[6]), end='  ')\n",
    "print(dct[11].format(dct[5]), end='  '); print(dct[12].format(dct[6]))"
   ]
  },
  {
   "cell_type": "code",
   "execution_count": null,
   "metadata": {
    "collapsed": true
   },
   "outputs": [],
   "source": []
  },
  {
   "cell_type": "code",
   "execution_count": null,
   "metadata": {
    "collapsed": false
   },
   "outputs": [],
   "source": [
    "dt1 = { 0: '-------------------------------------',\n",
    "        1: '{:'+str(a)+'}',\n",
    "        2: '{:'+str(b)+'}'\n",
    "        }"
   ]
  },
  {
   "cell_type": "code",
   "execution_count": null,
   "metadata": {
    "collapsed": false
   },
   "outputs": [],
   "source": [
    "class dataExplo(object):\n",
    "    def __init__(self, dataSet, csvFile='signnames.csv', sOrted=True):\n",
    "        self.dataSet   = dataSet\n",
    "        self.csvFile   = csvFile\n",
    "        self.sOrted    = sOrted\n",
    "\n",
    "\n",
    "    def showChart(self,figNb=1):\n",
    "        '''Show the number of occurence per class'''\n",
    "        n_classes = len(np.unique(self.dataSet))\n",
    "        set2 = brewer2mpl.get_map('Set2', 'qualitative', 8).mpl_colors # [2] Get \"Set2\" colors from ColorBrewer\n",
    "        hist, bins = np.histogram(self.dataSet, np.arange(n_classes+1))\n",
    "        fig = plt.figure(figsize=(16, 3))\n",
    "\n",
    "        plt.title('fig.'+str(figNb)+': labels - number of occurence per class')\n",
    "        plt.xlabel('Class id')\n",
    "        plt.ylabel('Number of occurence')\n",
    "        plt.xlim(0,n_classes)\n",
    "        plt.ylim(0,np.amax(hist))\n",
    "        ax = fig.add_subplot(111)\n",
    "        ppl.bar(ax, bins[:-1], hist, grid='y', color='#616161')\n",
    "     \n",
    "\n",
    "    def showDist(self,figNb=2):\n",
    "        n_classes = len(np.unique(self.dataSet))\n",
    "        set2 = brewer2mpl.get_map('Set2', 'qualitative', 8).mpl_colors\n",
    "        axX = np.arange(len(self.dataSet))\n",
    "        axY = self.dataSet\n",
    "        fig = plt.figure(figsize=(16,2))\n",
    "\n",
    "        plt.title('fig.'+str(figNb)+': labels - data distribution')\n",
    "        plt.xlabel('Index')\n",
    "        plt.ylabel('Class id')\n",
    "        plt.ylim(0,n_classes)\n",
    "        ax = fig.add_subplot(111)    \n",
    "        plt.plot(axX,axY,\".\", color=set2[7])\n",
    "        #ax.scatter(axX, axY, color=set2[7])\n",
    "\n",
    "    def ocrLabel(self):\n",
    "        n_classes = len(np.unique(self.dataSet))\n",
    "        # Map class_id with Traffic-sign names: dct[classId] = Traffic-sign names\n",
    "        with open(self.csvFile, newline='', encoding=\"utf8\") as csvFile1:\n",
    "            read0 = csv.reader(csvFile1)\n",
    "            #dct0, dct1, dct2 = {}, {}, {}\n",
    "            dct0, dct1 = {}, {}\n",
    "            for i in read0:\n",
    "                try:\n",
    "                    dct0[int(i[0])] = i[1]\n",
    "                except:\n",
    "                    pass\n",
    "        # Output : dct[classId] = Traffic-sign names\n",
    "\n",
    "\n",
    "        # Occurence by class id: dct[classId] = occurence\n",
    "        ocr, classId = np.histogram(self.dataSet, np.arange(n_classes+1))\n",
    "        classId = classId[:-1].copy()\n",
    "        for i,j in zip(classId,ocr):\n",
    "                dct1[i] = j\n",
    "        # Output : dct[classId] = occurence\n",
    "\n",
    "\n",
    "        # Occurence by Traffic-sign names: dct[Traffic-sign names] = occurence\n",
    "        lt = []\n",
    "        for i in classId:\n",
    "                lt.append([dct1[i], dct0[i]])\n",
    "        # Output : lt[classId] = [occurence, Traffic-sign names] \n",
    "\n",
    "        return lt\n",
    "    \n",
    "\n",
    "    def showList(self,figNb=3):\n",
    "        dct = { 0: '--------------------------------------------------  ---------------------------------------------------------',\n",
    "                1: '%-44s|%-8s%-50s|%-5s',\n",
    "                2: '%-45s%-8s%-50s|%-5s',\n",
    "                3: 'Traffic sign name',\n",
    "                4: 'Occu.',\n",
    "                }\n",
    "        if self.sOrted:\n",
    "            sTr = 'sorted'\n",
    "        else:\n",
    "            sTr = ''\n",
    "        print('fig.'+str(figNb)+': labels - {} List of occurence per Traffic sign name'.format(sTr))\n",
    "        \n",
    "        # Print the table header\n",
    "        print(dct[0])\n",
    "        print(dct[1] % (dct[3], dct[4], dct[3], dct[4]) )\n",
    "        print(dct[0])\n",
    "\n",
    "        # Print ( the Traffic sign name and the related occurence ) x 2 / line\n",
    "        if self.sOrted:\n",
    "            lt = sorted(self.ocrLabel(), reverse=True)\n",
    "        else:\n",
    "            lt = ocrLabel(self.dataSet)\n",
    "\n",
    "        nbLine = int(len(lt)/2)\n",
    "        rem    = len(lt)%2\n",
    "        for i in range(nbLine):\n",
    "            print(dct[1] % (lt[i][1], lt[i][0] , lt[i+nbLine][1], lt[i+nbLine][0]) )\n",
    "        if rem !=0:\n",
    "            print(dct[2] % ('', '', lt[-1][1], lt[-1][0]) )\n",
    "\n",
    "\n",
    "    def __str__(self): # footnote [3]\n",
    "        import inspect\n",
    "        frame = inspect.currentframe()\n",
    "        var_id = id(self.dataSet)\n",
    "        for name in frame.f_back.f_locals.keys():\n",
    "            try:\n",
    "                if id(eval(name)) == var_id:\n",
    "                    return '< dataExplo''('' ' + name + ' '')'' >'                    \n",
    "            except:\n",
    "                return '< dataEplo''('' ? '')'' >'\n",
    "\n",
    "if tRace2: # Test\n",
    "    yT_explo = dataExplo(y_train)\n",
    "    print(yT_explo)\n",
    "if tRace1: print(msg1)"
   ]
  }
 ],
 "metadata": {
  "anaconda-cloud": {},
  "kernelspec": {
   "display_name": "Python 3",
   "language": "python",
   "name": "python3"
  },
  "language_info": {
   "codemirror_mode": {
    "name": "ipython",
    "version": 3
   },
   "file_extension": ".py",
   "mimetype": "text/x-python",
   "name": "python",
   "nbconvert_exporter": "python",
   "pygments_lexer": "ipython3",
   "version": "3.5.2"
  },
  "widgets": {
   "state": {},
   "version": "1.1.2"
  }
 },
 "nbformat": 4,
 "nbformat_minor": 1
}
